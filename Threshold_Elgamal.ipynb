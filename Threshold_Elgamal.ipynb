{
  "nbformat": 4,
  "nbformat_minor": 0,
  "metadata": {
    "colab": {
      "name": "Threshold Elgamal.ipynb",
      "version": "0.3.2",
      "provenance": [],
      "collapsed_sections": [],
      "include_colab_link": true
    },
    "kernelspec": {
      "name": "python3",
      "display_name": "Python 3"
    }
  },
  "cells": [
    {
      "cell_type": "markdown",
      "metadata": {
        "id": "view-in-github",
        "colab_type": "text"
      },
      "source": [
        "<a href=\"https://colab.research.google.com/github/cdrubin/threshold-elgamal/blob/master/Threshold_Elgamal.ipynb\" target=\"_parent\"><img src=\"https://colab.research.google.com/assets/colab-badge.svg\" alt=\"Open In Colab\"/></a>"
      ]
    },
    {
      "metadata": {
        "id": "TOOqED1jXvKx",
        "colab_type": "code",
        "colab": {
          "base_uri": "https://localhost:8080/",
          "height": 91
        },
        "cellView": "form",
        "outputId": "b8b513ee-85a9-4a33-a2c5-a037641ccd45"
      },
      "cell_type": "code",
      "source": [
        "#@title\n",
        "\n",
        "from IPython.display import Image\n",
        "from IPython.core.display import HTML\n",
        "Image(url= \"https://docs.google.com/drawings/d/e/2PACX-1vQDjVTIR1tD0CEzjEGB6T1TDPfMh778_QXcw9nWeXU9ifHmPeXf7sY6tugTObFw4IWS3GiZo9K73J_K/pub?w=493&h=71\")\n",
        "\n"
      ],
      "execution_count": 19,
      "outputs": [
        {
          "output_type": "execute_result",
          "data": {
            "text/html": [
              "<img src=\"https://docs.google.com/drawings/d/e/2PACX-1vQDjVTIR1tD0CEzjEGB6T1TDPfMh778_QXcw9nWeXU9ifHmPeXf7sY6tugTObFw4IWS3GiZo9K73J_K/pub?w=493&h=71\"/>"
            ],
            "text/plain": [
              "<IPython.core.display.Image object>"
            ]
          },
          "metadata": {
            "tags": []
          },
          "execution_count": 19
        }
      ]
    },
    {
      "metadata": {
        "id": "1MQyf7A7MKm_",
        "colab_type": "text"
      },
      "cell_type": "markdown",
      "source": [
        "# Elgamal \n",
        "\n",
        "Elgamal is a classic asymmetric encryption scheme, also commonly refered to as a public key or public-private key encryption scheme.\n",
        "\n",
        "The basic idea is that two parties will generate both a private and a public key separately. They will advertise their public keys but keep the private key secret. If\n",
        "\n",
        "\n",
        "$ $ "
      ]
    },
    {
      "metadata": {
        "id": "zKpydgDqJn9N",
        "colab_type": "code",
        "colab": {
          "base_uri": "https://localhost:8080/",
          "height": 223
        },
        "cellView": "form",
        "outputId": "d82516fb-f1d0-4d5d-aec9-4868dc0b0b4a"
      },
      "cell_type": "code",
      "source": [
        "#@title\n",
        "\n",
        "from IPython.display import Image\n",
        "from IPython.core.display import HTML\n",
        "Image(url= \"https://docs.google.com/drawings/d/e/2PACX-1vSC6ZzCycCIEUJn1H2gZPno-okr9qxn_u15gvfOkaQzwyB-al0e7izWI3kXVYLQjY9uPuGY4xe4i2Vm/pub?w=458&h=202\")"
      ],
      "execution_count": 20,
      "outputs": [
        {
          "output_type": "execute_result",
          "data": {
            "text/html": [
              "<img src=\"https://docs.google.com/drawings/d/e/2PACX-1vSC6ZzCycCIEUJn1H2gZPno-okr9qxn_u15gvfOkaQzwyB-al0e7izWI3kXVYLQjY9uPuGY4xe4i2Vm/pub?w=458&h=202\"/>"
            ],
            "text/plain": [
              "<IPython.core.display.Image object>"
            ]
          },
          "metadata": {
            "tags": []
          },
          "execution_count": 20
        }
      ]
    },
    {
      "metadata": {
        "id": "z5xV_bDDPjDC",
        "colab_type": "code",
        "colab": {}
      },
      "cell_type": "code",
      "source": [
        ""
      ],
      "execution_count": 0,
      "outputs": []
    }
  ]
}